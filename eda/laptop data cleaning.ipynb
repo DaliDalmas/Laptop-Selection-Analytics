{
 "cells": [
  {
   "cell_type": "code",
   "execution_count": 103,
   "id": "dc3b7963-a13b-49b7-b174-88e8f814c64c",
   "metadata": {
    "tags": []
   },
   "outputs": [],
   "source": [
    "import pandas as pd\n",
    "import seaborn as sns\n",
    "import numpy as np\n",
    "pd.set_option('display.max_columns', None)\n",
    "pd.set_option('display.max_rows', None)"
   ]
  },
  {
   "cell_type": "code",
   "execution_count": 104,
   "id": "c9879626-25a7-4a2c-bc57-97ce63cdf59f",
   "metadata": {
    "tags": []
   },
   "outputs": [
    {
     "data": {
      "text/plain": [
       "(984, 10)"
      ]
     },
     "execution_count": 104,
     "metadata": {},
     "output_type": "execute_result"
    }
   ],
   "source": [
    "data = pd.read_csv('../data/laptops.csv').drop(['Unnamed: 0', 'img_link'], axis=1)\n",
    "data.shape"
   ]
  },
  {
   "cell_type": "markdown",
   "id": "ba8626b4-d125-430a-af6d-52254e09e2af",
   "metadata": {},
   "source": [
    "### missing values"
   ]
  },
  {
   "cell_type": "code",
   "execution_count": 105,
   "id": "6ddeed65-cb2b-4bd5-a7df-e73f7c267697",
   "metadata": {
    "tags": []
   },
   "outputs": [
    {
     "data": {
      "text/plain": [
       "name                 0.000000\n",
       "price(in Rs.)        0.000000\n",
       "processor            0.000000\n",
       "ram                  0.000000\n",
       "os                   0.000000\n",
       "storage              0.000000\n",
       "display(in inch)     0.000000\n",
       "rating              30.081301\n",
       "no_of_ratings       30.081301\n",
       "no_of_reviews       30.081301\n",
       "dtype: float64"
      ]
     },
     "execution_count": 105,
     "metadata": {},
     "output_type": "execute_result"
    }
   ],
   "source": [
    "data.isna().sum()*100/data.shape[0]"
   ]
  },
  {
   "cell_type": "code",
   "execution_count": 106,
   "id": "c24545d9-ab9f-4d6b-88ad-91f015d8c7df",
   "metadata": {
    "tags": []
   },
   "outputs": [
    {
     "data": {
      "text/plain": [
       "name                0\n",
       "price(in Rs.)       0\n",
       "processor           0\n",
       "ram                 0\n",
       "os                  0\n",
       "storage             0\n",
       "display(in inch)    0\n",
       "rating              0\n",
       "no_of_ratings       0\n",
       "no_of_reviews       0\n",
       "dtype: int64"
      ]
     },
     "execution_count": 106,
     "metadata": {},
     "output_type": "execute_result"
    }
   ],
   "source": [
    "data[~data['rating'].isna()].isna().sum()"
   ]
  },
  {
   "cell_type": "markdown",
   "id": "c66617a8-4b65-4810-9207-1b773cff62ac",
   "metadata": {},
   "source": [
    "- The same records have missing values for rating, no_of_ratings and no_of_reviews columns\n",
    "- I am going to impute the missing values with negative one. Meaning if there is a missing rating then the rating is -1 and the number of ratings will be -1 and also the number of reviews will be negative one"
   ]
  },
  {
   "cell_type": "code",
   "execution_count": 107,
   "id": "d265216c-5ddf-4900-b056-ba031da9acb0",
   "metadata": {
    "tags": []
   },
   "outputs": [],
   "source": [
    "data.fillna(-1, inplace=True)"
   ]
  },
  {
   "cell_type": "markdown",
   "id": "2880cd95-1db7-4b02-aa49-b692b067372e",
   "metadata": {},
   "source": [
    "### duplicates"
   ]
  },
  {
   "cell_type": "code",
   "execution_count": 108,
   "id": "2cf17917-ae23-4b42-a3bc-847bd909752e",
   "metadata": {
    "tags": []
   },
   "outputs": [
    {
     "data": {
      "text/plain": [
       "212"
      ]
     },
     "execution_count": 108,
     "metadata": {},
     "output_type": "execute_result"
    }
   ],
   "source": [
    "data.duplicated().sum()"
   ]
  },
  {
   "cell_type": "markdown",
   "id": "c31b6230-ea6d-4195-a8de-8ea2fcb1265c",
   "metadata": {},
   "source": [
    "- We have 212 records duplicated. These records will not add any value to out analysis. I will therefore drop them"
   ]
  },
  {
   "cell_type": "code",
   "execution_count": 109,
   "id": "9c3d9836-32e6-49f3-b7ba-e25f9851e1e6",
   "metadata": {
    "tags": []
   },
   "outputs": [],
   "source": [
    "data.drop_duplicates(keep='first', inplace=True)"
   ]
  },
  {
   "cell_type": "code",
   "execution_count": 110,
   "id": "fbfd93bb-dbe1-4bba-a914-7f7ce74609f1",
   "metadata": {
    "tags": []
   },
   "outputs": [
    {
     "data": {
      "text/plain": [
       "(772, 10)"
      ]
     },
     "execution_count": 110,
     "metadata": {},
     "output_type": "execute_result"
    }
   ],
   "source": [
    "data.shape"
   ]
  },
  {
   "cell_type": "code",
   "execution_count": 111,
   "id": "6fde63c3-100e-4048-9818-0a24031d5dcc",
   "metadata": {
    "tags": []
   },
   "outputs": [],
   "source": [
    "def to_lower(text: str)->str:\n",
    "    return str(text).lower()\n",
    "\n",
    "text_columns = ['name', 'processor', 'ram', 'storage', 'os']\n",
    "for col in text_columns:\n",
    "    data[col] = data[col].apply(to_lower)"
   ]
  },
  {
   "cell_type": "code",
   "execution_count": null,
   "id": "7637930f-9b27-4c3a-8006-47c423e00bf2",
   "metadata": {},
   "outputs": [],
   "source": []
  },
  {
   "cell_type": "markdown",
   "id": "8527f466-c2d9-489d-8215-776b402ef562",
   "metadata": {},
   "source": [
    "### column names"
   ]
  },
  {
   "cell_type": "code",
   "execution_count": 112,
   "id": "64e5a973-2fb1-42b7-8668-45ada6f2ec5b",
   "metadata": {
    "tags": []
   },
   "outputs": [],
   "source": [
    "data.rename(columns={'price(in Rs.)': 'price_in_rs', 'display(in inch)': 'display_in_inch'}, inplace=True)"
   ]
  },
  {
   "cell_type": "code",
   "execution_count": 129,
   "id": "ec7dd433-b9e9-4fec-b9f5-a9e7880be19b",
   "metadata": {
    "tags": []
   },
   "outputs": [
    {
     "data": {
      "text/plain": [
       "['price_in_rs',\n",
       " 'os',\n",
       " 'display_in_inch',\n",
       " 'rating',\n",
       " 'no_of_ratings',\n",
       " 'no_of_reviews',\n",
       " 'laptop',\n",
       " 'processor_manufacturer',\n",
       " 'processor_generation',\n",
       " 'number_of_cores',\n",
       " 'ram_in_gb',\n",
       " 'storage_type',\n",
       " 'primary_storage_size']"
      ]
     },
     "execution_count": 129,
     "metadata": {},
     "output_type": "execute_result"
    }
   ],
   "source": [
    "list(data.columns)"
   ]
  },
  {
   "cell_type": "markdown",
   "id": "6c6885f4-0875-4a63-95ba-504bfa081574",
   "metadata": {},
   "source": [
    "## name"
   ]
  },
  {
   "cell_type": "markdown",
   "id": "9a22106b-1f67-4086-885b-7543182348ef",
   "metadata": {},
   "source": [
    "- checking if name column has repeatitions"
   ]
  },
  {
   "cell_type": "code",
   "execution_count": 114,
   "id": "b0ac0e5c-be9c-4e0f-9f06-789bfca88cc3",
   "metadata": {
    "tags": []
   },
   "outputs": [
    {
     "data": {
      "text/plain": [
       "False"
      ]
     },
     "execution_count": 114,
     "metadata": {},
     "output_type": "execute_result"
    }
   ],
   "source": [
    "len(data['name'].unique()) == data.shape[0]"
   ]
  },
  {
   "cell_type": "code",
   "execution_count": 115,
   "id": "ec545919-ce6d-431c-9eb2-03063b9521ce",
   "metadata": {
    "tags": []
   },
   "outputs": [
    {
     "data": {
      "text/plain": [
       "(498, 1)"
      ]
     },
     "execution_count": 115,
     "metadata": {},
     "output_type": "execute_result"
    }
   ],
   "source": [
    "data[['name', 'price_in_rs']]\\\n",
    "    .groupby('name')\\\n",
    "    .count()\\\n",
    "    .sort_values(by='price_in_rs')\\\n",
    "    .shape"
   ]
  },
  {
   "cell_type": "raw",
   "id": "259444e9-0c35-47f4-b0df-08a13a39ddc2",
   "metadata": {
    "tags": []
   },
   "source": [
    "data[data['name']=='dell core i5 12th gen']"
   ]
  },
  {
   "cell_type": "markdown",
   "id": "2f937214-e685-4581-bd3c-9e029ad30d04",
   "metadata": {},
   "source": [
    "The name column cannot be used as an id column because it contains repeatitions"
   ]
  },
  {
   "cell_type": "code",
   "execution_count": 116,
   "id": "1a634dd3-29ed-4517-af22-7649ca2e07e4",
   "metadata": {
    "tags": []
   },
   "outputs": [],
   "source": [
    "data['laptop'] = data['name'].str.split(expand=True)[0]"
   ]
  },
  {
   "cell_type": "code",
   "execution_count": 117,
   "id": "451cb71f-35a1-4433-80f0-501826534b48",
   "metadata": {
    "tags": []
   },
   "outputs": [
    {
     "data": {
      "image/png": "[encoded data removed]",
      "text/plain": [
       "<Figure size 640x480 with 1 Axes>"
      ]
     },
     "metadata": {},
     "output_type": "display_data"
    }
   ],
   "source": [
    "data[['laptop', 'price_in_rs']]\\\n",
    "    .groupby('laptop')\\\n",
    "    .count()\\\n",
    "    .sort_values(by='price_in_rs')\\\n",
    "    .plot(kind='barh');"
   ]
  },
  {
   "cell_type": "code",
   "execution_count": 118,
   "id": "1c229d46-cfff-4f3b-b92a-5d339db1eccd",
   "metadata": {
    "tags": []
   },
   "outputs": [],
   "source": [
    "del data['name']"
   ]
  },
  {
   "cell_type": "markdown",
   "id": "453db6a6-4fa8-4eff-a982-4c4a16f422c3",
   "metadata": {},
   "source": [
    "### processor"
   ]
  },
  {
   "cell_type": "raw",
   "id": "ff2e02e6-0bd3-4683-8047-1b46c61c3b18",
   "metadata": {
    "tags": []
   },
   "source": [
    "[i for i in list(data['processor'].unique()) if 'intel' not in i]"
   ]
  },
  {
   "cell_type": "code",
   "execution_count": 119,
   "id": "d1269878-afa6-4201-9426-a0901cd2e73c",
   "metadata": {
    "tags": []
   },
   "outputs": [],
   "source": [
    "def extract_processor(processor: str)->list:\n",
    "    processor_split = processor.split()\n",
    "    processor_manufacturer = processor_split[0]\n",
    "    if 'intel' in processor:\n",
    "        if any([i in processor  for i in ['pentium', 'celeron']]):\n",
    "            processor_generation = 1\n",
    "            number_of_cores = 2 if 'dual' in processor else 4\n",
    "        else:\n",
    "            \n",
    "            processor_generation = processor.split('(')[-1].split()[0].replace('th', '')\n",
    "\n",
    "            core_index = processor_split.index('core')+1\n",
    "            number_of_cores = processor_split[core_index].replace('i', '')\n",
    "    elif 'amd' in processor:\n",
    "        if '(' in processor:\n",
    "            processor_generation = processor.split('(')[-1].split()[0].replace('th', '')\n",
    "        else:\n",
    "            processor_generation = 1\n",
    "        if 'dual' in processor:\n",
    "            number_of_cores = 2\n",
    "        elif 'quad' in processor:\n",
    "            number_of_cores = 4\n",
    "        elif 'hexa' in processor:\n",
    "            number_of_cores = 6\n",
    "        elif 'octa' in processor:\n",
    "            number_of_cores = 8\n",
    "        else:\n",
    "            number_of_cores = 1\n",
    "    elif 'apple' in processor:\n",
    "        processor_generation = 1 if '1' in processor else 2\n",
    "        number_of_cores = 8\n",
    "    else:\n",
    "        processor_manufacturer, processor_generation, number_of_cores = np.nan, np.nan, np.nan\n",
    "            \n",
    "    return [processor_manufacturer, processor_generation, number_of_cores]"
   ]
  },
  {
   "cell_type": "code",
   "execution_count": 120,
   "id": "0323862d-d69f-4554-8d16-5528864d6fac",
   "metadata": {
    "tags": []
   },
   "outputs": [],
   "source": [
    "data['processor_manufacturer'] = data['processor'].apply(lambda t: extract_processor(t)[0])\n",
    "data['processor_generation'] = data['processor'].apply(lambda t: extract_processor(t)[1])\n",
    "data['number_of_cores'] = data['processor'].apply(lambda t: extract_processor(t)[1])"
   ]
  },
  {
   "cell_type": "code",
   "execution_count": 121,
   "id": "ed64fb47-a91e-425c-9d7e-e41f7c2658d2",
   "metadata": {
    "tags": []
   },
   "outputs": [
    {
     "data": {
      "text/plain": [
       "price_in_rs               0\n",
       "processor                 0\n",
       "ram                       0\n",
       "os                        0\n",
       "storage                   0\n",
       "display_in_inch           0\n",
       "rating                    0\n",
       "no_of_ratings             0\n",
       "no_of_reviews             0\n",
       "laptop                    0\n",
       "processor_manufacturer    2\n",
       "processor_generation      2\n",
       "number_of_cores           2\n",
       "dtype: int64"
      ]
     },
     "execution_count": 121,
     "metadata": {},
     "output_type": "execute_result"
    }
   ],
   "source": [
    "data.isna().sum()"
   ]
  },
  {
   "cell_type": "code",
   "execution_count": 122,
   "id": "22415f93-e63b-4999-ae50-39b4dbe0f3eb",
   "metadata": {
    "tags": []
   },
   "outputs": [],
   "source": [
    "data.dropna(inplace=True)\n",
    "del data['processor']"
   ]
  },
  {
   "cell_type": "markdown",
   "id": "3f68841d-80a8-408c-8355-e74791067bc1",
   "metadata": {},
   "source": [
    "## ram"
   ]
  },
  {
   "cell_type": "code",
   "execution_count": 123,
   "id": "c1d571a8-6fab-4d02-9434-0f23ce7487bd",
   "metadata": {
    "tags": []
   },
   "outputs": [],
   "source": [
    "data['ram_in_gb'] = data['ram'].str.split(expand=True)[0]\n",
    "del data['ram']"
   ]
  },
  {
   "cell_type": "markdown",
   "id": "be86029e-4efb-4443-9ef2-061edc04b5a5",
   "metadata": {},
   "source": [
    "### storage "
   ]
  },
  {
   "cell_type": "code",
   "execution_count": 124,
   "id": "2195548c-929c-490d-b42e-6dde802ba4d5",
   "metadata": {
    "tags": []
   },
   "outputs": [
    {
     "name": "stdout",
     "output_type": "stream",
     "text": [
      "pci-e ssd (nvme) ready,silver-lining print keyboard,matrix display (extend),cooler boost 5,hi-res audio,nahimic 3,144hz panel,thin bezel,rgb gaming keyboard,speaker tuning engine,msi center\n",
      "pci-e gen4 ssd?shift?matrix display (extend)?cooler boost 3?thunderbolt 4?finger print security?true color 2.0?hi-res audio?nahimic 3? 4-sided thin bezel?msi center?silky smooth touchpad?military-grade durability\n"
     ]
    }
   ],
   "source": [
    "data['storage_type'] = data['storage']\\\n",
    "                .apply(\n",
    "                    lambda x: \n",
    "                        str(x).split()[-1] if '|' not in x \n",
    "                        else f\"{str(x).split('|')[0].split()[-1]} {str(x).split('|')[1].split()[-1]}\"\n",
    "                    )\n",
    "\n",
    "def calculate_storage_size(storage: str)->int:\n",
    "    storage_split = str(storage).split()\n",
    "    try:\n",
    "        labeled_size = int(storage_split[0])\n",
    "    except:\n",
    "        labeled_size = np.nan\n",
    "        print(storage)\n",
    "    labeled_tag = storage_split[1]\n",
    "    if labeled_tag=='gb':\n",
    "        return labeled_size\n",
    "    elif labeled_tag=='tb':\n",
    "        return labeled_size*1000\n",
    "\n",
    "data['primary_storage_size'] = data['storage'].apply(calculate_storage_size)\n",
    "\n",
    "del data['storage']\n",
    "data.dropna(inplace=True)"
   ]
  },
  {
   "cell_type": "markdown",
   "id": "155b48f8-f23a-4f6e-a9a0-67558d2eea78",
   "metadata": {},
   "source": [
    "### os"
   ]
  },
  {
   "cell_type": "code",
   "execution_count": 125,
   "id": "f35023bd-7ecd-49af-b6b9-514db6d5e7f0",
   "metadata": {
    "tags": []
   },
   "outputs": [
    {
     "data": {
      "text/plain": [
       "array(['windows 11 operating system',\n",
       "       '64 bit windows 11 operating system', 'dos operating system',\n",
       "       'mac os operating system', '64 bit windows 10 operating system',\n",
       "       '32 bit windows 11 operating system', 'chrome operating system',\n",
       "       '64 bit chrome operating system', 'windows 10 operating system',\n",
       "       '64 bit dos operating system', '64 bit windows 8 operating system'],\n",
       "      dtype=object)"
      ]
     },
     "execution_count": 125,
     "metadata": {},
     "output_type": "execute_result"
    }
   ],
   "source": [
    "data['os'].unique()"
   ]
  },
  {
   "cell_type": "markdown",
   "id": "d52df67d-5ed9-496f-9d4f-d6533a6d141a",
   "metadata": {},
   "source": [
    "### save the clean data"
   ]
  },
  {
   "cell_type": "code",
   "execution_count": 126,
   "id": "903ac153-7fb9-4bab-83dd-856427d6e91a",
   "metadata": {
    "tags": []
   },
   "outputs": [
    {
     "data": {
      "text/plain": [
       "(768, 13)"
      ]
     },
     "execution_count": 126,
     "metadata": {},
     "output_type": "execute_result"
    }
   ],
   "source": [
    "data.to_csv('../data/clean_laptops.csv', index=False)\n",
    "data.shape"
   ]
  }
 ],
 "metadata": {
  "kernelspec": {
   "display_name": "Python 3 (ipykernel)",
   "language": "python",
   "name": "python3"
  },
  "language_info": {
   "codemirror_mode": {
    "name": "ipython",
    "version": 3
   },
   "file_extension": ".py",
   "mimetype": "text/x-python",
   "name": "python",
   "nbconvert_exporter": "python",
   "pygments_lexer": "ipython3",
   "version": "3.10.0"
  }
 },
 "nbformat": 4,
 "nbformat_minor": 5
}
